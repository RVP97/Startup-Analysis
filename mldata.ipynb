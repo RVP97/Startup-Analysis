{
 "cells": [
  {
   "cell_type": "code",
   "execution_count": 1,
   "metadata": {},
   "outputs": [],
   "source": [
    "import matplotlib as plt\n",
    "import pandas as pd \n",
    "import seaborn as sns"
   ]
  },
  {
   "cell_type": "code",
   "execution_count": null,
   "metadata": {},
   "outputs": [],
   "source": [
    "data2 = "
   ]
  },
  {
   "cell_type": "code",
   "execution_count": 2,
   "metadata": {},
   "outputs": [
    {
     "data": {
      "text/html": [
       "<div>\n",
       "<style scoped>\n",
       "    .dataframe tbody tr th:only-of-type {\n",
       "        vertical-align: middle;\n",
       "    }\n",
       "\n",
       "    .dataframe tbody tr th {\n",
       "        vertical-align: top;\n",
       "    }\n",
       "\n",
       "    .dataframe thead th {\n",
       "        text-align: right;\n",
       "    }\n",
       "</style>\n",
       "<table border=\"1\" class=\"dataframe\">\n",
       "  <thead>\n",
       "    <tr style=\"text-align: right;\">\n",
       "      <th></th>\n",
       "      <th>Unnamed: 0</th>\n",
       "      <th>labels</th>\n",
       "      <th>age_first_funding_year</th>\n",
       "      <th>age_last_funding_year</th>\n",
       "      <th>age_first_milestone_year</th>\n",
       "      <th>age_last_milestone_year</th>\n",
       "      <th>relationships</th>\n",
       "      <th>funding_rounds</th>\n",
       "      <th>funding_total_usd</th>\n",
       "      <th>milestones</th>\n",
       "      <th>...</th>\n",
       "      <th>has_angel</th>\n",
       "      <th>has_roundA</th>\n",
       "      <th>has_roundB</th>\n",
       "      <th>has_roundC</th>\n",
       "      <th>has_roundD</th>\n",
       "      <th>avg_participants</th>\n",
       "      <th>is_top500</th>\n",
       "      <th>reached_milestone</th>\n",
       "      <th>founded_first_funding__days_difference</th>\n",
       "      <th>first_last_funding_days_difference</th>\n",
       "    </tr>\n",
       "  </thead>\n",
       "  <tbody>\n",
       "    <tr>\n",
       "      <th>0</th>\n",
       "      <td>0</td>\n",
       "      <td>1</td>\n",
       "      <td>2.2493</td>\n",
       "      <td>3.0027</td>\n",
       "      <td>4.6685</td>\n",
       "      <td>6.7041</td>\n",
       "      <td>3</td>\n",
       "      <td>3</td>\n",
       "      <td>375000</td>\n",
       "      <td>3</td>\n",
       "      <td>...</td>\n",
       "      <td>1</td>\n",
       "      <td>0</td>\n",
       "      <td>0</td>\n",
       "      <td>0</td>\n",
       "      <td>0</td>\n",
       "      <td>1.0000</td>\n",
       "      <td>0</td>\n",
       "      <td>1</td>\n",
       "      <td>821</td>\n",
       "      <td>275</td>\n",
       "    </tr>\n",
       "    <tr>\n",
       "      <th>1</th>\n",
       "      <td>1</td>\n",
       "      <td>1</td>\n",
       "      <td>5.1260</td>\n",
       "      <td>9.9973</td>\n",
       "      <td>7.0055</td>\n",
       "      <td>7.0055</td>\n",
       "      <td>9</td>\n",
       "      <td>4</td>\n",
       "      <td>40100000</td>\n",
       "      <td>1</td>\n",
       "      <td>...</td>\n",
       "      <td>0</td>\n",
       "      <td>0</td>\n",
       "      <td>1</td>\n",
       "      <td>1</td>\n",
       "      <td>1</td>\n",
       "      <td>4.7500</td>\n",
       "      <td>1</td>\n",
       "      <td>1</td>\n",
       "      <td>1871</td>\n",
       "      <td>1778</td>\n",
       "    </tr>\n",
       "    <tr>\n",
       "      <th>2</th>\n",
       "      <td>2</td>\n",
       "      <td>1</td>\n",
       "      <td>1.0329</td>\n",
       "      <td>1.0329</td>\n",
       "      <td>1.4575</td>\n",
       "      <td>2.2055</td>\n",
       "      <td>5</td>\n",
       "      <td>1</td>\n",
       "      <td>2600000</td>\n",
       "      <td>2</td>\n",
       "      <td>...</td>\n",
       "      <td>0</td>\n",
       "      <td>1</td>\n",
       "      <td>0</td>\n",
       "      <td>0</td>\n",
       "      <td>0</td>\n",
       "      <td>4.0000</td>\n",
       "      <td>1</td>\n",
       "      <td>1</td>\n",
       "      <td>377</td>\n",
       "      <td>0</td>\n",
       "    </tr>\n",
       "    <tr>\n",
       "      <th>3</th>\n",
       "      <td>3</td>\n",
       "      <td>1</td>\n",
       "      <td>3.1315</td>\n",
       "      <td>5.3151</td>\n",
       "      <td>6.0027</td>\n",
       "      <td>6.0027</td>\n",
       "      <td>5</td>\n",
       "      <td>3</td>\n",
       "      <td>40000000</td>\n",
       "      <td>1</td>\n",
       "      <td>...</td>\n",
       "      <td>0</td>\n",
       "      <td>0</td>\n",
       "      <td>1</td>\n",
       "      <td>1</td>\n",
       "      <td>1</td>\n",
       "      <td>3.3333</td>\n",
       "      <td>1</td>\n",
       "      <td>1</td>\n",
       "      <td>1143</td>\n",
       "      <td>797</td>\n",
       "    </tr>\n",
       "    <tr>\n",
       "      <th>4</th>\n",
       "      <td>4</td>\n",
       "      <td>0</td>\n",
       "      <td>0.0000</td>\n",
       "      <td>1.6685</td>\n",
       "      <td>0.0384</td>\n",
       "      <td>0.0384</td>\n",
       "      <td>2</td>\n",
       "      <td>2</td>\n",
       "      <td>1300000</td>\n",
       "      <td>1</td>\n",
       "      <td>...</td>\n",
       "      <td>1</td>\n",
       "      <td>0</td>\n",
       "      <td>0</td>\n",
       "      <td>0</td>\n",
       "      <td>0</td>\n",
       "      <td>1.0000</td>\n",
       "      <td>1</td>\n",
       "      <td>1</td>\n",
       "      <td>0</td>\n",
       "      <td>609</td>\n",
       "    </tr>\n",
       "  </tbody>\n",
       "</table>\n",
       "<p>5 rows × 36 columns</p>\n",
       "</div>"
      ],
      "text/plain": [
       "   Unnamed: 0  labels  age_first_funding_year  age_last_funding_year  \\\n",
       "0           0       1                  2.2493                 3.0027   \n",
       "1           1       1                  5.1260                 9.9973   \n",
       "2           2       1                  1.0329                 1.0329   \n",
       "3           3       1                  3.1315                 5.3151   \n",
       "4           4       0                  0.0000                 1.6685   \n",
       "\n",
       "   age_first_milestone_year  age_last_milestone_year  relationships  \\\n",
       "0                    4.6685                   6.7041              3   \n",
       "1                    7.0055                   7.0055              9   \n",
       "2                    1.4575                   2.2055              5   \n",
       "3                    6.0027                   6.0027              5   \n",
       "4                    0.0384                   0.0384              2   \n",
       "\n",
       "   funding_rounds  funding_total_usd  milestones  ...  has_angel  has_roundA  \\\n",
       "0               3             375000           3  ...          1           0   \n",
       "1               4           40100000           1  ...          0           0   \n",
       "2               1            2600000           2  ...          0           1   \n",
       "3               3           40000000           1  ...          0           0   \n",
       "4               2            1300000           1  ...          1           0   \n",
       "\n",
       "   has_roundB  has_roundC  has_roundD  avg_participants  is_top500  \\\n",
       "0           0           0           0            1.0000          0   \n",
       "1           1           1           1            4.7500          1   \n",
       "2           0           0           0            4.0000          1   \n",
       "3           1           1           1            3.3333          1   \n",
       "4           0           0           0            1.0000          1   \n",
       "\n",
       "   reached_milestone  founded_first_funding__days_difference  \\\n",
       "0                  1                                     821   \n",
       "1                  1                                    1871   \n",
       "2                  1                                     377   \n",
       "3                  1                                    1143   \n",
       "4                  1                                       0   \n",
       "\n",
       "   first_last_funding_days_difference  \n",
       "0                                 275  \n",
       "1                                1778  \n",
       "2                                   0  \n",
       "3                                 797  \n",
       "4                                 609  \n",
       "\n",
       "[5 rows x 36 columns]"
      ]
     },
     "execution_count": 2,
     "metadata": {},
     "output_type": "execute_result"
    }
   ],
   "source": [
    "data = pd.read_csv(\"Resources/startup_data_cleaned.csv\")\n",
    "data.head()"
   ]
  },
  {
   "cell_type": "code",
   "execution_count": 6,
   "metadata": {},
   "outputs": [
    {
     "data": {
      "text/plain": [
       "<AxesSubplot:xlabel='funding_total_usd', ylabel='labels'>"
      ]
     },
     "execution_count": 6,
     "metadata": {},
     "output_type": "execute_result"
    },
    {
     "data": {
      "image/png": "[encoded data removed]",
      "text/plain": [
       "<Figure size 432x288 with 1 Axes>"
      ]
     },
     "metadata": {
      "needs_background": "light"
     },
     "output_type": "display_data"
    }
   ],
   "source": [
    "data.plot(x=\"funding_total_usd\", y=\"labels\", kind=\"scatter\")"
   ]
  },
  {
   "cell_type": "code",
   "execution_count": 8,
   "metadata": {},
   "outputs": [
    {
     "data": {
      "text/plain": [
       "Unnamed: 0                                  0\n",
       "labels                                      0\n",
       "age_first_funding_year                      0\n",
       "age_last_funding_year                       0\n",
       "age_first_milestone_year                  152\n",
       "age_last_milestone_year                   152\n",
       "relationships                               0\n",
       "funding_rounds                              0\n",
       "funding_total_usd                           0\n",
       "milestones                                  0\n",
       "is_CA                                       0\n",
       "is_NY                                       0\n",
       "is_MA                                       0\n",
       "is_TX                                       0\n",
       "is_otherstate                               0\n",
       "is_software                                 0\n",
       "is_web                                      0\n",
       "is_mobile                                   0\n",
       "is_enterprise                               0\n",
       "is_advertising                              0\n",
       "is_gamesvideo                               0\n",
       "is_ecommerce                                0\n",
       "is_biotech                                  0\n",
       "is_consulting                               0\n",
       "is_othercategory                            0\n",
       "has_VC                                      0\n",
       "has_angel                                   0\n",
       "has_roundA                                  0\n",
       "has_roundB                                  0\n",
       "has_roundC                                  0\n",
       "has_roundD                                  0\n",
       "avg_participants                            0\n",
       "is_top500                                   0\n",
       "reached_milestone                           0\n",
       "founded_first_funding__days_difference      0\n",
       "first_last_funding_days_difference          0\n",
       "dtype: int64"
      ]
     },
     "execution_count": 8,
     "metadata": {},
     "output_type": "execute_result"
    }
   ],
   "source": [
    "null_data = data.isnull().sum()\n",
    "null_data"
   ]
  },
  {
   "cell_type": "code",
   "execution_count": 9,
   "metadata": {},
   "outputs": [
    {
     "data": {
      "text/plain": [
       "Unnamed: 0                                 0.000000\n",
       "labels                                     0.000000\n",
       "age_first_funding_year                     0.000000\n",
       "age_last_funding_year                      0.000000\n",
       "age_first_milestone_year                  16.468039\n",
       "age_last_milestone_year                   16.468039\n",
       "relationships                              0.000000\n",
       "funding_rounds                             0.000000\n",
       "funding_total_usd                          0.000000\n",
       "milestones                                 0.000000\n",
       "is_CA                                      0.000000\n",
       "is_NY                                      0.000000\n",
       "is_MA                                      0.000000\n",
       "is_TX                                      0.000000\n",
       "is_otherstate                              0.000000\n",
       "is_software                                0.000000\n",
       "is_web                                     0.000000\n",
       "is_mobile                                  0.000000\n",
       "is_enterprise                              0.000000\n",
       "is_advertising                             0.000000\n",
       "is_gamesvideo                              0.000000\n",
       "is_ecommerce                               0.000000\n",
       "is_biotech                                 0.000000\n",
       "is_consulting                              0.000000\n",
       "is_othercategory                           0.000000\n",
       "has_VC                                     0.000000\n",
       "has_angel                                  0.000000\n",
       "has_roundA                                 0.000000\n",
       "has_roundB                                 0.000000\n",
       "has_roundC                                 0.000000\n",
       "has_roundD                                 0.000000\n",
       "avg_participants                           0.000000\n",
       "is_top500                                  0.000000\n",
       "reached_milestone                          0.000000\n",
       "founded_first_funding__days_difference     0.000000\n",
       "first_last_funding_days_difference         0.000000\n",
       "dtype: float64"
      ]
     },
     "execution_count": 9,
     "metadata": {},
     "output_type": "execute_result"
    }
   ],
   "source": [
    "## percentage of null data \n",
    "(null_data/len(data))*100"
   ]
  },
  {
   "cell_type": "code",
   "execution_count": 103,
   "metadata": {},
   "outputs": [],
   "source": [
    "first_model = data.copy()\n",
    "first_model=first_model.drop(\"Unnamed: 0\", axis=1)"
   ]
  },
  {
   "cell_type": "code",
   "execution_count": 104,
   "metadata": {},
   "outputs": [],
   "source": [
    "### doing  first model without taking out null data but transforming it to 0\n",
    "\n",
    "first_model[\"age_first_milestone_year\"] = first_model[\"age_first_milestone_year\"].fillna(value=0)\n",
    "first_model[\"age_last_milestone_year\"] = first_model[\"age_last_milestone_year\"].fillna(value=0)"
   ]
  },
  {
   "cell_type": "code",
   "execution_count": 105,
   "metadata": {},
   "outputs": [
    {
     "data": {
      "text/html": [
       "<div>\n",
       "<style scoped>\n",
       "    .dataframe tbody tr th:only-of-type {\n",
       "        vertical-align: middle;\n",
       "    }\n",
       "\n",
       "    .dataframe tbody tr th {\n",
       "        vertical-align: top;\n",
       "    }\n",
       "\n",
       "    .dataframe thead th {\n",
       "        text-align: right;\n",
       "    }\n",
       "</style>\n",
       "<table border=\"1\" class=\"dataframe\">\n",
       "  <thead>\n",
       "    <tr style=\"text-align: right;\">\n",
       "      <th></th>\n",
       "      <th>labels</th>\n",
       "      <th>age_first_funding_year</th>\n",
       "      <th>age_last_funding_year</th>\n",
       "      <th>age_first_milestone_year</th>\n",
       "      <th>age_last_milestone_year</th>\n",
       "      <th>relationships</th>\n",
       "      <th>funding_rounds</th>\n",
       "      <th>funding_total_usd</th>\n",
       "      <th>milestones</th>\n",
       "      <th>is_CA</th>\n",
       "      <th>...</th>\n",
       "      <th>has_angel</th>\n",
       "      <th>has_roundA</th>\n",
       "      <th>has_roundB</th>\n",
       "      <th>has_roundC</th>\n",
       "      <th>has_roundD</th>\n",
       "      <th>avg_participants</th>\n",
       "      <th>is_top500</th>\n",
       "      <th>reached_milestone</th>\n",
       "      <th>founded_first_funding__days_difference</th>\n",
       "      <th>first_last_funding_days_difference</th>\n",
       "    </tr>\n",
       "  </thead>\n",
       "  <tbody>\n",
       "  </tbody>\n",
       "</table>\n",
       "<p>0 rows × 35 columns</p>\n",
       "</div>"
      ],
      "text/plain": [
       "Empty DataFrame\n",
       "Columns: [labels, age_first_funding_year, age_last_funding_year, age_first_milestone_year, age_last_milestone_year, relationships, funding_rounds, funding_total_usd, milestones, is_CA, is_NY, is_MA, is_TX, is_otherstate, is_software, is_web, is_mobile, is_enterprise, is_advertising, is_gamesvideo, is_ecommerce, is_biotech, is_consulting, is_othercategory, has_VC, has_angel, has_roundA, has_roundB, has_roundC, has_roundD, avg_participants, is_top500, reached_milestone, founded_first_funding__days_difference, first_last_funding_days_difference]\n",
       "Index: []\n",
       "\n",
       "[0 rows x 35 columns]"
      ]
     },
     "execution_count": 105,
     "metadata": {},
     "output_type": "execute_result"
    }
   ],
   "source": [
    "first_model[first_model.age_last_milestone_year.isnull()]"
   ]
  },
  {
   "cell_type": "code",
   "execution_count": 106,
   "metadata": {},
   "outputs": [],
   "source": [
    "features= first_model.drop(\"labels\",axis=1)\n",
    "features = features.columns.to_list()"
   ]
  },
  {
   "cell_type": "code",
   "execution_count": 107,
   "metadata": {},
   "outputs": [
    {
     "data": {
      "text/plain": [
       "['age_first_funding_year',\n",
       " 'age_last_funding_year',\n",
       " 'age_first_milestone_year',\n",
       " 'age_last_milestone_year',\n",
       " 'relationships',\n",
       " 'funding_rounds',\n",
       " 'funding_total_usd',\n",
       " 'milestones',\n",
       " 'is_CA',\n",
       " 'is_NY',\n",
       " 'is_MA',\n",
       " 'is_TX',\n",
       " 'is_otherstate',\n",
       " 'is_software',\n",
       " 'is_web',\n",
       " 'is_mobile',\n",
       " 'is_enterprise',\n",
       " 'is_advertising',\n",
       " 'is_gamesvideo',\n",
       " 'is_ecommerce',\n",
       " 'is_biotech',\n",
       " 'is_consulting',\n",
       " 'is_othercategory',\n",
       " 'has_VC',\n",
       " 'has_angel',\n",
       " 'has_roundA',\n",
       " 'has_roundB',\n",
       " 'has_roundC',\n",
       " 'has_roundD',\n",
       " 'avg_participants',\n",
       " 'is_top500',\n",
       " 'reached_milestone',\n",
       " 'founded_first_funding__days_difference',\n",
       " 'first_last_funding_days_difference']"
      ]
     },
     "execution_count": 107,
     "metadata": {},
     "output_type": "execute_result"
    }
   ],
   "source": [
    "features"
   ]
  },
  {
   "cell_type": "code",
   "execution_count": 35,
   "metadata": {},
   "outputs": [
    {
     "data": {
      "text/plain": [
       "<AxesSubplot:>"
      ]
     },
     "execution_count": 35,
     "metadata": {},
     "output_type": "execute_result"
    },
    {
     "data": {
      "image/png": "[encoded data removed]",
      "text/plain": [
       "<Figure size 432x288 with 2 Axes>"
      ]
     },
     "metadata": {
      "needs_background": "light"
     },
     "output_type": "display_data"
    }
   ],
   "source": [
    "sns.heatmap(data=first_model[features].corr())"
   ]
  },
  {
   "cell_type": "code",
   "execution_count": 64,
   "metadata": {},
   "outputs": [
    {
     "name": "stderr",
     "output_type": "stream",
     "text": [
      "c:\\Users\\OMEN\\anaconda3\\envs\\mlenv\\lib\\site-packages\\seaborn\\_decorators.py:43: FutureWarning: Pass the following variable as a keyword arg: x. From version 0.12, the only valid positional argument will be `data`, and passing other arguments without an explicit keyword will result in an error or misinterpretation.\n",
      "  FutureWarning\n"
     ]
    },
    {
     "data": {
      "text/plain": [
       "<AxesSubplot:xlabel='labels', ylabel='count'>"
      ]
     },
     "execution_count": 64,
     "metadata": {},
     "output_type": "execute_result"
    },
    {
     "data": {
      "image/png": "[encoded data removed]",
      "text/plain": [
       "<Figure size 432x288 with 1 Axes>"
      ]
     },
     "metadata": {
      "needs_background": "light"
     },
     "output_type": "display_data"
    }
   ],
   "source": [
    "sns.countplot(data[\"labels\"])"
   ]
  },
  {
   "cell_type": "code",
   "execution_count": 108,
   "metadata": {},
   "outputs": [],
   "source": [
    "X = data.drop(\"labels\", axis=1)\n",
    "y= data[\"labels\"]"
   ]
  },
  {
   "cell_type": "code",
   "execution_count": 55,
   "metadata": {},
   "outputs": [],
   "source": [
    "from sklearn.model_selection import train_test_split\n",
    "import lazypredict\n",
    "#importing lazy classifier\n",
    "from lazypredict.Supervised import LazyClassifier\n",
    "from sklearn.preprocessing import StandardScaler"
   ]
  },
  {
   "cell_type": "code",
   "execution_count": 109,
   "metadata": {},
   "outputs": [],
   "source": [
    "X_train, X_test, y_train, y_test = train_test_split(X, y, stratify=y)"
   ]
  },
  {
   "cell_type": "code",
   "execution_count": 54,
   "metadata": {},
   "outputs": [],
   "source": [
    "clf = LazyClassifier(verbose=0, ignore_warnings=True, custom_metric=None)"
   ]
  },
  {
   "cell_type": "code",
   "execution_count": 110,
   "metadata": {},
   "outputs": [],
   "source": [
    "## Scale data\n",
    "scaler = StandardScaler()\n",
    "X_scaler = scaler.fit(X_train)\n",
    "X_scaled_train = X_scaler.transform(X_train)\n",
    "X_scaled_test = X_scaler.transform(X_test)"
   ]
  },
  {
   "cell_type": "code",
   "execution_count": 62,
   "metadata": {},
   "outputs": [
    {
     "name": "stdout",
     "output_type": "stream",
     "text": [
      "                               Accuracy  Balanced Accuracy  ROC AUC  F1 Score  \\\n",
      "Model                                                                           \n",
      "XGBClassifier                      0.82               0.79     0.79      0.82   \n",
      "BaggingClassifier                  0.79               0.77     0.77      0.79   \n",
      "AdaBoostClassifier                 0.81               0.77     0.77      0.80   \n",
      "RandomForestClassifier             0.81               0.77     0.77      0.80   \n",
      "LGBMClassifier                     0.80               0.76     0.76      0.79   \n",
      "LogisticRegression                 0.77               0.75     0.75      0.77   \n",
      "NuSVC                              0.78               0.74     0.74      0.78   \n",
      "CalibratedClassifierCV             0.78               0.74     0.74      0.78   \n",
      "DecisionTreeClassifier             0.77               0.74     0.74      0.77   \n",
      "LinearSVC                          0.77               0.74     0.74      0.77   \n",
      "BernoulliNB                        0.74               0.74     0.74      0.75   \n",
      "ExtraTreesClassifier               0.78               0.73     0.73      0.77   \n",
      "SVC                                0.78               0.73     0.73      0.77   \n",
      "LinearDiscriminantAnalysis         0.75               0.72     0.72      0.75   \n",
      "RidgeClassifierCV                  0.75               0.72     0.72      0.75   \n",
      "RidgeClassifier                    0.75               0.72     0.72      0.75   \n",
      "NearestCentroid                    0.71               0.71     0.71      0.71   \n",
      "GaussianNB                         0.69               0.70     0.70      0.69   \n",
      "SGDClassifier                      0.72               0.68     0.68      0.72   \n",
      "Perceptron                         0.71               0.68     0.68      0.71   \n",
      "LabelPropagation                   0.68               0.67     0.67      0.69   \n",
      "LabelSpreading                     0.68               0.66     0.66      0.68   \n",
      "KNeighborsClassifier               0.71               0.65     0.65      0.69   \n",
      "ExtraTreeClassifier                0.65               0.64     0.64      0.66   \n",
      "PassiveAggressiveClassifier        0.63               0.61     0.61      0.64   \n",
      "QuadraticDiscriminantAnalysis      0.65               0.55     0.55      0.60   \n",
      "DummyClassifier                    0.65               0.50     0.50      0.51   \n",
      "\n",
      "                               Time Taken  \n",
      "Model                                      \n",
      "XGBClassifier                        0.96  \n",
      "BaggingClassifier                    0.07  \n",
      "AdaBoostClassifier                   0.20  \n",
      "RandomForestClassifier               0.34  \n",
      "LGBMClassifier                       0.16  \n",
      "LogisticRegression                   0.03  \n",
      "NuSVC                                0.08  \n",
      "CalibratedClassifierCV               4.64  \n",
      "DecisionTreeClassifier               0.03  \n",
      "LinearSVC                            0.12  \n",
      "BernoulliNB                          0.02  \n",
      "ExtraTreesClassifier                 0.27  \n",
      "SVC                                  0.06  \n",
      "LinearDiscriminantAnalysis           0.08  \n",
      "RidgeClassifierCV                    0.02  \n",
      "RidgeClassifier                      0.03  \n",
      "NearestCentroid                      0.01  \n",
      "GaussianNB                           0.01  \n",
      "SGDClassifier                        0.02  \n",
      "Perceptron                           0.02  \n",
      "LabelPropagation                     0.16  \n",
      "LabelSpreading                       0.09  \n",
      "KNeighborsClassifier                 0.08  \n",
      "ExtraTreeClassifier                  0.02  \n",
      "PassiveAggressiveClassifier          0.02  \n",
      "QuadraticDiscriminantAnalysis        0.09  \n",
      "DummyClassifier                      0.02  \n"
     ]
    }
   ],
   "source": [
    "print(models)"
   ]
  },
  {
   "cell_type": "code",
   "execution_count": 97,
   "metadata": {},
   "outputs": [],
   "source": [
    "from sklearn.ensemble import RandomForestClassifier\n",
    "from sklearn.metrics import accuracy_score, classification_report, confusion_matrix"
   ]
  },
  {
   "cell_type": "code",
   "execution_count": 85,
   "metadata": {},
   "outputs": [],
   "source": [
    "rf_model = RandomForestClassifier(n_estimators=200)"
   ]
  },
  {
   "cell_type": "code",
   "execution_count": 114,
   "metadata": {},
   "outputs": [],
   "source": [
    "#fit the model\n",
    "rf_model = rf_model.fit(X_scaled_train, y_train)"
   ]
  },
  {
   "cell_type": "code",
   "execution_count": 115,
   "metadata": {},
   "outputs": [],
   "source": [
    "predictions = rf_model.predict(X_scaled_test)"
   ]
  },
  {
   "cell_type": "code",
   "execution_count": 116,
   "metadata": {},
   "outputs": [
    {
     "data": {
      "text/plain": [
       "array([[ 46,  36],\n",
       "       [ 14, 135]], dtype=int64)"
      ]
     },
     "execution_count": 116,
     "metadata": {},
     "output_type": "execute_result"
    }
   ],
   "source": [
    "cm  = confusion_matrix(y_test, predictions)\n",
    "cm"
   ]
  },
  {
   "cell_type": "code",
   "execution_count": 117,
   "metadata": {},
   "outputs": [
    {
     "name": "stdout",
     "output_type": "stream",
     "text": [
      "<class 'pandas.core.frame.DataFrame'>\n",
      "RangeIndex: 923 entries, 0 to 922\n",
      "Data columns (total 35 columns):\n",
      " #   Column                                  Non-Null Count  Dtype  \n",
      "---  ------                                  --------------  -----  \n",
      " 0   labels                                  923 non-null    int64  \n",
      " 1   age_first_funding_year                  923 non-null    float64\n",
      " 2   age_last_funding_year                   923 non-null    float64\n",
      " 3   age_first_milestone_year                923 non-null    float64\n",
      " 4   age_last_milestone_year                 923 non-null    float64\n",
      " 5   relationships                           923 non-null    int64  \n",
      " 6   funding_rounds                          923 non-null    int64  \n",
      " 7   funding_total_usd                       923 non-null    int64  \n",
      " 8   milestones                              923 non-null    int64  \n",
      " 9   is_CA                                   923 non-null    int64  \n",
      " 10  is_NY                                   923 non-null    int64  \n",
      " 11  is_MA                                   923 non-null    int64  \n",
      " 12  is_TX                                   923 non-null    int64  \n",
      " 13  is_otherstate                           923 non-null    int64  \n",
      " 14  is_software                             923 non-null    int64  \n",
      " 15  is_web                                  923 non-null    int64  \n",
      " 16  is_mobile                               923 non-null    int64  \n",
      " 17  is_enterprise                           923 non-null    int64  \n",
      " 18  is_advertising                          923 non-null    int64  \n",
      " 19  is_gamesvideo                           923 non-null    int64  \n",
      " 20  is_ecommerce                            923 non-null    int64  \n",
      " 21  is_biotech                              923 non-null    int64  \n",
      " 22  is_consulting                           923 non-null    int64  \n",
      " 23  is_othercategory                        923 non-null    int64  \n",
      " 24  has_VC                                  923 non-null    int64  \n",
      " 25  has_angel                               923 non-null    int64  \n",
      " 26  has_roundA                              923 non-null    int64  \n",
      " 27  has_roundB                              923 non-null    int64  \n",
      " 28  has_roundC                              923 non-null    int64  \n",
      " 29  has_roundD                              923 non-null    int64  \n",
      " 30  avg_participants                        923 non-null    float64\n",
      " 31  is_top500                               923 non-null    int64  \n",
      " 32  reached_milestone                       923 non-null    int64  \n",
      " 33  founded_first_funding__days_difference  923 non-null    int64  \n",
      " 34  first_last_funding_days_difference      923 non-null    int64  \n",
      "dtypes: float64(5), int64(30)\n",
      "memory usage: 252.5 KB\n"
     ]
    }
   ],
   "source": [
    "first_model.info()"
   ]
  },
  {
   "cell_type": "code",
   "execution_count": 118,
   "metadata": {},
   "outputs": [
    {
     "data": {
      "text/plain": [
       "[(0.13018454144038016, 'relationships'),\n",
       " (0.08868738372995777, 'funding_total_usd'),\n",
       " (0.07805301909043916, 'age_last_milestone_year'),\n",
       " (0.06504195822000869, 'age_last_funding_year'),\n",
       " (0.06471186400951455, 'founded_first_funding__days_difference'),\n",
       " (0.0638291933790672, 'age_first_milestone_year'),\n",
       " (0.062037196925549064, 'age_first_funding_year'),\n",
       " (0.0578123838809522, 'Unnamed: 0'),\n",
       " (0.054152500572757105, 'avg_participants'),\n",
       " (0.05268868811482739, 'milestones'),\n",
       " (0.04840428373800629, 'first_last_funding_days_difference'),\n",
       " (0.04067316919245062, 'is_top500'),\n",
       " (0.027834405208547786, 'funding_rounds'),\n",
       " (0.02611389776763316, 'reached_milestone'),\n",
       " (0.01112682648210545, 'has_roundB'),\n",
       " (0.010846495254833213, 'has_roundC'),\n",
       " (0.010095735951073518, 'is_othercategory'),\n",
       " (0.009884864283615617, 'has_VC'),\n",
       " (0.009662353340136997, 'has_roundA'),\n",
       " (0.009506221434695677, 'is_otherstate'),\n",
       " (0.008921583250441898, 'is_CA'),\n",
       " (0.008233444534505759, 'is_software'),\n",
       " (0.006963885745755848, 'is_web'),\n",
       " (0.006193966139433233, 'is_mobile'),\n",
       " (0.006029392206677197, 'has_angel'),\n",
       " (0.005833520932863041, 'is_NY'),\n",
       " (0.005709708150651857, 'is_TX'),\n",
       " (0.005433286704015648, 'is_ecommerce'),\n",
       " (0.005296376152436304, 'has_roundD'),\n",
       " (0.005113821288185424, 'is_MA'),\n",
       " (0.004751919089485544, 'is_enterprise'),\n",
       " (0.003891734933709715, 'is_gamesvideo'),\n",
       " (0.0035183781344537628, 'is_advertising'),\n",
       " (0.0026685054916595237, 'is_biotech'),\n",
       " (9.349522917365703e-05, 'is_consulting')]"
      ]
     },
     "execution_count": 118,
     "metadata": {},
     "output_type": "execute_result"
    }
   ],
   "source": [
    "importance = rf_model.feature_importances_\n",
    "sorted(zip(rf_model.feature_importances_, X.columns), reverse=True)"
   ]
  },
  {
   "cell_type": "code",
   "execution_count": 119,
   "metadata": {},
   "outputs": [],
   "source": [
    "from sklearn.metrics import log_loss, auc"
   ]
  },
  {
   "cell_type": "code",
   "execution_count": 120,
   "metadata": {},
   "outputs": [
    {
     "ename": "ValueError",
     "evalue": "x is neither increasing nor decreasing : [1 0 0 1 1 0 1 0 0 1 1 1 0 0 0 1 0 0 0 1 1 1 1 1 0 1 1 1 1 0 1 1 1 1 0 0 1\n 0 0 0 1 1 1 1 0 1 0 1 1 1 1 0 1 1 0 1 1 1 1 0 0 1 1 1 0 0 1 1 0 1 1 0 1 1\n 0 1 1 1 0 1 1 1 0 1 1 1 0 0 0 1 1 0 1 0 1 1 1 0 1 1 1 0 0 1 1 1 1 0 0 1 1\n 1 1 1 1 0 1 1 1 1 1 1 1 1 1 1 1 0 0 0 0 0 0 0 1 0 1 0 1 0 1 1 0 1 0 1 0 1\n 1 1 0 0 1 1 0 1 0 1 1 1 1 0 1 1 1 1 1 1 1 0 0 1 0 1 1 0 1 1 1 1 0 0 1 0 1\n 1 1 1 1 1 1 1 1 1 1 1 1 1 1 1 0 0 0 0 1 1 0 0 1 0 0 1 1 0 0 1 0 0 1 0 1 1\n 1 1 0 1 0 1 1 1 1].",
     "output_type": "error",
     "traceback": [
      "\u001b[1;31m---------------------------------------------------------------------------\u001b[0m",
      "\u001b[1;31mValueError\u001b[0m                                Traceback (most recent call last)",
      "\u001b[1;32m~\\AppData\\Local\\Temp\\ipykernel_16364\\30756723.py\u001b[0m in \u001b[0;36m<module>\u001b[1;34m\u001b[0m\n\u001b[1;32m----> 1\u001b[1;33m \u001b[0mprint\u001b[0m\u001b[1;33m(\u001b[0m\u001b[0mauc\u001b[0m\u001b[1;33m(\u001b[0m\u001b[0my_test\u001b[0m\u001b[1;33m,\u001b[0m \u001b[0mpredictions\u001b[0m\u001b[1;33m)\u001b[0m\u001b[1;33m)\u001b[0m\u001b[1;33m\u001b[0m\u001b[1;33m\u001b[0m\u001b[0m\n\u001b[0m",
      "\u001b[1;32mc:\\Users\\OMEN\\anaconda3\\envs\\mlenv\\lib\\site-packages\\sklearn\\metrics\\_ranking.py\u001b[0m in \u001b[0;36mauc\u001b[1;34m(x, y)\u001b[0m\n\u001b[0;32m     98\u001b[0m             \u001b[0mdirection\u001b[0m \u001b[1;33m=\u001b[0m \u001b[1;33m-\u001b[0m\u001b[1;36m1\u001b[0m\u001b[1;33m\u001b[0m\u001b[1;33m\u001b[0m\u001b[0m\n\u001b[0;32m     99\u001b[0m         \u001b[1;32melse\u001b[0m\u001b[1;33m:\u001b[0m\u001b[1;33m\u001b[0m\u001b[1;33m\u001b[0m\u001b[0m\n\u001b[1;32m--> 100\u001b[1;33m             \u001b[1;32mraise\u001b[0m \u001b[0mValueError\u001b[0m\u001b[1;33m(\u001b[0m\u001b[1;34m\"x is neither increasing nor decreasing : {}.\"\u001b[0m\u001b[1;33m.\u001b[0m\u001b[0mformat\u001b[0m\u001b[1;33m(\u001b[0m\u001b[0mx\u001b[0m\u001b[1;33m)\u001b[0m\u001b[1;33m)\u001b[0m\u001b[1;33m\u001b[0m\u001b[1;33m\u001b[0m\u001b[0m\n\u001b[0m\u001b[0;32m    101\u001b[0m \u001b[1;33m\u001b[0m\u001b[0m\n\u001b[0;32m    102\u001b[0m     \u001b[0marea\u001b[0m \u001b[1;33m=\u001b[0m \u001b[0mdirection\u001b[0m \u001b[1;33m*\u001b[0m \u001b[0mnp\u001b[0m\u001b[1;33m.\u001b[0m\u001b[0mtrapz\u001b[0m\u001b[1;33m(\u001b[0m\u001b[0my\u001b[0m\u001b[1;33m,\u001b[0m \u001b[0mx\u001b[0m\u001b[1;33m)\u001b[0m\u001b[1;33m\u001b[0m\u001b[1;33m\u001b[0m\u001b[0m\n",
      "\u001b[1;31mValueError\u001b[0m: x is neither increasing nor decreasing : [1 0 0 1 1 0 1 0 0 1 1 1 0 0 0 1 0 0 0 1 1 1 1 1 0 1 1 1 1 0 1 1 1 1 0 0 1\n 0 0 0 1 1 1 1 0 1 0 1 1 1 1 0 1 1 0 1 1 1 1 0 0 1 1 1 0 0 1 1 0 1 1 0 1 1\n 0 1 1 1 0 1 1 1 0 1 1 1 0 0 0 1 1 0 1 0 1 1 1 0 1 1 1 0 0 1 1 1 1 0 0 1 1\n 1 1 1 1 0 1 1 1 1 1 1 1 1 1 1 1 0 0 0 0 0 0 0 1 0 1 0 1 0 1 1 0 1 0 1 0 1\n 1 1 0 0 1 1 0 1 0 1 1 1 1 0 1 1 1 1 1 1 1 0 0 1 0 1 1 0 1 1 1 1 0 0 1 0 1\n 1 1 1 1 1 1 1 1 1 1 1 1 1 1 1 0 0 0 0 1 1 0 0 1 0 0 1 1 0 0 1 0 0 1 0 1 1\n 1 1 0 1 0 1 1 1 1]."
     ]
    }
   ],
   "source": [
    "print(auc(y_test, predictions))"
   ]
  },
  {
   "cell_type": "code",
   "execution_count": 121,
   "metadata": {},
   "outputs": [
    {
     "data": {
      "text/plain": [
       "7.4760502391905685"
      ]
     },
     "execution_count": 121,
     "metadata": {},
     "output_type": "execute_result"
    }
   ],
   "source": [
    "log_loss(y_test, predictions)"
   ]
  },
  {
   "cell_type": "code",
   "execution_count": 125,
   "metadata": {},
   "outputs": [],
   "source": [
    "from sklearn.metrics import accuracy_score"
   ]
  },
  {
   "cell_type": "code",
   "execution_count": 126,
   "metadata": {},
   "outputs": [
    {
     "data": {
      "text/plain": [
       "0.7835497835497836"
      ]
     },
     "execution_count": 126,
     "metadata": {},
     "output_type": "execute_result"
    }
   ],
   "source": [
    "accuracy_score(y_test, predictions)"
   ]
  },
  {
   "cell_type": "code",
   "execution_count": 100,
   "metadata": {},
   "outputs": [
    {
     "name": "stdout",
     "output_type": "stream",
     "text": [
      "              precision    recall  f1-score   support\n",
      "\n",
      "           0       0.77      0.66      0.71        82\n",
      "           1       0.83      0.89      0.86       149\n",
      "\n",
      "    accuracy                           0.81       231\n",
      "   macro avg       0.80      0.78      0.78       231\n",
      "weighted avg       0.81      0.81      0.81       231\n",
      "\n"
     ]
    }
   ],
   "source": [
    "print(classification_report(y_test, predictions))"
   ]
  },
  {
   "cell_type": "code",
   "execution_count": 69,
   "metadata": {},
   "outputs": [],
   "source": [
    "import numpy as np"
   ]
  },
  {
   "cell_type": "code",
   "execution_count": 113,
   "metadata": {},
   "outputs": [],
   "source": [
    "X_scaled_train = np.nan_to_num(X_scaled_train)\n",
    "X_scaled_test = np.nan_to_num(X_scaled_test)"
   ]
  },
  {
   "cell_type": "code",
   "execution_count": 135,
   "metadata": {},
   "outputs": [
    {
     "data": {
      "text/plain": [
       "(array([], dtype=int64), array([], dtype=int64))"
      ]
     },
     "execution_count": 135,
     "metadata": {},
     "output_type": "execute_result"
    }
   ],
   "source": [
    "np.where(np.isnan(X_scaled_train))"
   ]
  },
  {
   "cell_type": "code",
   "execution_count": 72,
   "metadata": {},
   "outputs": [
    {
     "data": {
      "text/plain": [
       "True"
      ]
     },
     "execution_count": 72,
     "metadata": {},
     "output_type": "execute_result"
    }
   ],
   "source": [
    "np.isnan(np.min(X_scaled_train))"
   ]
  },
  {
   "cell_type": "code",
   "execution_count": 139,
   "metadata": {},
   "outputs": [],
   "source": [
    "df_new = first_model[np.isfinite(first_model).all(1)]"
   ]
  },
  {
   "cell_type": "code",
   "execution_count": 140,
   "metadata": {},
   "outputs": [],
   "source": [
    "y = df_new[\"labels\"]\n",
    "X = df_new.drop(\"labels\", axis=1)"
   ]
  },
  {
   "cell_type": "code",
   "execution_count": 141,
   "metadata": {},
   "outputs": [],
   "source": [
    "X_train, X_test, y_train, y_test = train_test_split(X, y, stratify = y)"
   ]
  },
  {
   "cell_type": "code",
   "execution_count": null,
   "metadata": {},
   "outputs": [],
   "source": []
  },
  {
   "cell_type": "code",
   "execution_count": 129,
   "metadata": {},
   "outputs": [],
   "source": [
    "import matplotlib.pyplot as plt\n",
    "import matplotlib.cm as cm\n",
    "from sklearn.cluster import KMeans\n",
    "from sklearn.metrics import silhouette_score, silhouette_samples"
   ]
  },
  {
   "cell_type": "code",
   "execution_count": 137,
   "metadata": {},
   "outputs": [
    {
     "name": "stdout",
     "output_type": "stream",
     "text": [
      "For n_clusters = 2 The average silhouette_score is : 0.10048298726451654\n"
     ]
    },
    {
     "ename": "ValueError",
     "evalue": "Input contains NaN, infinity or a value too large for dtype('float64').",
     "output_type": "error",
     "traceback": [
      "\u001b[1;31m---------------------------------------------------------------------------\u001b[0m",
      "\u001b[1;31mValueError\u001b[0m                                Traceback (most recent call last)",
      "\u001b[1;32m~\\AppData\\Local\\Temp\\ipykernel_16364\\3487011816.py\u001b[0m in \u001b[0;36m<module>\u001b[1;34m\u001b[0m\n\u001b[0;32m     30\u001b[0m \u001b[1;33m\u001b[0m\u001b[0m\n\u001b[0;32m     31\u001b[0m     \u001b[1;31m# Compute the silhouette scores for each sample\u001b[0m\u001b[1;33m\u001b[0m\u001b[1;33m\u001b[0m\u001b[1;33m\u001b[0m\u001b[0m\n\u001b[1;32m---> 32\u001b[1;33m     \u001b[0msample_silhouette_values\u001b[0m \u001b[1;33m=\u001b[0m \u001b[0msilhouette_samples\u001b[0m\u001b[1;33m(\u001b[0m\u001b[0mX\u001b[0m\u001b[1;33m,\u001b[0m \u001b[0mcluster_labels\u001b[0m\u001b[1;33m)\u001b[0m\u001b[1;33m\u001b[0m\u001b[1;33m\u001b[0m\u001b[0m\n\u001b[0m\u001b[0;32m     33\u001b[0m \u001b[1;33m\u001b[0m\u001b[0m\n\u001b[0;32m     34\u001b[0m     \u001b[0my_lower\u001b[0m \u001b[1;33m=\u001b[0m \u001b[1;36m10\u001b[0m\u001b[1;33m\u001b[0m\u001b[1;33m\u001b[0m\u001b[0m\n",
      "\u001b[1;32mc:\\Users\\OMEN\\anaconda3\\envs\\mlenv\\lib\\site-packages\\sklearn\\metrics\\cluster\\_unsupervised.py\u001b[0m in \u001b[0;36msilhouette_samples\u001b[1;34m(X, labels, metric, **kwds)\u001b[0m\n\u001b[0;32m    212\u001b[0m \u001b[1;33m\u001b[0m\u001b[0m\n\u001b[0;32m    213\u001b[0m     \"\"\"\n\u001b[1;32m--> 214\u001b[1;33m     \u001b[0mX\u001b[0m\u001b[1;33m,\u001b[0m \u001b[0mlabels\u001b[0m \u001b[1;33m=\u001b[0m \u001b[0mcheck_X_y\u001b[0m\u001b[1;33m(\u001b[0m\u001b[0mX\u001b[0m\u001b[1;33m,\u001b[0m \u001b[0mlabels\u001b[0m\u001b[1;33m,\u001b[0m \u001b[0maccept_sparse\u001b[0m\u001b[1;33m=\u001b[0m\u001b[1;33m[\u001b[0m\u001b[1;34m\"csc\"\u001b[0m\u001b[1;33m,\u001b[0m \u001b[1;34m\"csr\"\u001b[0m\u001b[1;33m]\u001b[0m\u001b[1;33m)\u001b[0m\u001b[1;33m\u001b[0m\u001b[1;33m\u001b[0m\u001b[0m\n\u001b[0m\u001b[0;32m    215\u001b[0m \u001b[1;33m\u001b[0m\u001b[0m\n\u001b[0;32m    216\u001b[0m     \u001b[1;31m# Check for non-zero diagonal entries in precomputed distance matrix\u001b[0m\u001b[1;33m\u001b[0m\u001b[1;33m\u001b[0m\u001b[1;33m\u001b[0m\u001b[0m\n",
      "\u001b[1;32mc:\\Users\\OMEN\\anaconda3\\envs\\mlenv\\lib\\site-packages\\sklearn\\utils\\validation.py\u001b[0m in \u001b[0;36mcheck_X_y\u001b[1;34m(X, y, accept_sparse, accept_large_sparse, dtype, order, copy, force_all_finite, ensure_2d, allow_nd, multi_output, ensure_min_samples, ensure_min_features, y_numeric, estimator)\u001b[0m\n\u001b[0;32m    966\u001b[0m         \u001b[0mensure_min_samples\u001b[0m\u001b[1;33m=\u001b[0m\u001b[0mensure_min_samples\u001b[0m\u001b[1;33m,\u001b[0m\u001b[1;33m\u001b[0m\u001b[1;33m\u001b[0m\u001b[0m\n\u001b[0;32m    967\u001b[0m         \u001b[0mensure_min_features\u001b[0m\u001b[1;33m=\u001b[0m\u001b[0mensure_min_features\u001b[0m\u001b[1;33m,\u001b[0m\u001b[1;33m\u001b[0m\u001b[1;33m\u001b[0m\u001b[0m\n\u001b[1;32m--> 968\u001b[1;33m         \u001b[0mestimator\u001b[0m\u001b[1;33m=\u001b[0m\u001b[0mestimator\u001b[0m\u001b[1;33m,\u001b[0m\u001b[1;33m\u001b[0m\u001b[1;33m\u001b[0m\u001b[0m\n\u001b[0m\u001b[0;32m    969\u001b[0m     )\n\u001b[0;32m    970\u001b[0m \u001b[1;33m\u001b[0m\u001b[0m\n",
      "\u001b[1;32mc:\\Users\\OMEN\\anaconda3\\envs\\mlenv\\lib\\site-packages\\sklearn\\utils\\validation.py\u001b[0m in \u001b[0;36mcheck_array\u001b[1;34m(array, accept_sparse, accept_large_sparse, dtype, order, copy, force_all_finite, ensure_2d, allow_nd, ensure_min_samples, ensure_min_features, estimator)\u001b[0m\n\u001b[0;32m    790\u001b[0m \u001b[1;33m\u001b[0m\u001b[0m\n\u001b[0;32m    791\u001b[0m         \u001b[1;32mif\u001b[0m \u001b[0mforce_all_finite\u001b[0m\u001b[1;33m:\u001b[0m\u001b[1;33m\u001b[0m\u001b[1;33m\u001b[0m\u001b[0m\n\u001b[1;32m--> 792\u001b[1;33m             \u001b[0m_assert_all_finite\u001b[0m\u001b[1;33m(\u001b[0m\u001b[0marray\u001b[0m\u001b[1;33m,\u001b[0m \u001b[0mallow_nan\u001b[0m\u001b[1;33m=\u001b[0m\u001b[0mforce_all_finite\u001b[0m \u001b[1;33m==\u001b[0m \u001b[1;34m\"allow-nan\"\u001b[0m\u001b[1;33m)\u001b[0m\u001b[1;33m\u001b[0m\u001b[1;33m\u001b[0m\u001b[0m\n\u001b[0m\u001b[0;32m    793\u001b[0m \u001b[1;33m\u001b[0m\u001b[0m\n\u001b[0;32m    794\u001b[0m     \u001b[1;32mif\u001b[0m \u001b[0mensure_min_samples\u001b[0m \u001b[1;33m>\u001b[0m \u001b[1;36m0\u001b[0m\u001b[1;33m:\u001b[0m\u001b[1;33m\u001b[0m\u001b[1;33m\u001b[0m\u001b[0m\n",
      "\u001b[1;32mc:\\Users\\OMEN\\anaconda3\\envs\\mlenv\\lib\\site-packages\\sklearn\\utils\\validation.py\u001b[0m in \u001b[0;36m_assert_all_finite\u001b[1;34m(X, allow_nan, msg_dtype)\u001b[0m\n\u001b[0;32m    114\u001b[0m             raise ValueError(\n\u001b[0;32m    115\u001b[0m                 msg_err.format(\n\u001b[1;32m--> 116\u001b[1;33m                     \u001b[0mtype_err\u001b[0m\u001b[1;33m,\u001b[0m \u001b[0mmsg_dtype\u001b[0m \u001b[1;32mif\u001b[0m \u001b[0mmsg_dtype\u001b[0m \u001b[1;32mis\u001b[0m \u001b[1;32mnot\u001b[0m \u001b[1;32mNone\u001b[0m \u001b[1;32melse\u001b[0m \u001b[0mX\u001b[0m\u001b[1;33m.\u001b[0m\u001b[0mdtype\u001b[0m\u001b[1;33m\u001b[0m\u001b[1;33m\u001b[0m\u001b[0m\n\u001b[0m\u001b[0;32m    117\u001b[0m                 )\n\u001b[0;32m    118\u001b[0m             )\n",
      "\u001b[1;31mValueError\u001b[0m: Input contains NaN, infinity or a value too large for dtype('float64')."
     ]
    },
    {
     "data": {
      "image/png": "[encoded data removed]",
      "text/plain": [
       "<Figure size 1296x504 with 2 Axes>"
      ]
     },
     "metadata": {
      "needs_background": "light"
     },
     "output_type": "display_data"
    }
   ],
   "source": [
    "\n",
    "n_clusters = [2,3,4,5]\n",
    "for n_clusters in n_clusters:\n",
    "    # Create a subplot with 1 row and 2 columns\n",
    "    fig, (ax1, ax2) = plt.subplots(1, 2)\n",
    "    fig.set_size_inches(18, 7)\n",
    "\n",
    "    # The 1st subplot is the silhouette plot\n",
    "    # The silhouette coefficient can range from -1, 1 but in this example all\n",
    "    # lie within [-0.1, 1]\n",
    "    ax1.set_xlim([-1, 1])\n",
    "    # The (n_clusters+1)*10 is for inserting blank space between silhouette\n",
    "    # plots of individual clusters, to demarcate them clearly.\n",
    "    ax1.set_ylim([0, len(X_scaled_train) + (n_clusters + 1) * 10])\n",
    "\n",
    "    # Initialize the clusterer with n_clusters value and a random generator\n",
    "    # seed of 10 for reproducibility.\n",
    "    clusterer = KMeans(n_clusters=n_clusters, random_state=10)\n",
    "    cluster_labels = clusterer.fit_predict(X_scaled_train)\n",
    "\n",
    "    # The silhouette_score gives the average value for all the samples.\n",
    "    # This gives a perspective into the density and separation of the formed\n",
    "    # clusters\n",
    "    silhouette_avg = silhouette_score(X_scaled_train, cluster_labels)\n",
    "    print(\n",
    "        \"For n_clusters =\",\n",
    "        n_clusters,\n",
    "        \"The average silhouette_score is :\",\n",
    "        silhouette_avg,\n",
    "    )\n",
    "\n",
    "    # Compute the silhouette scores for each sample\n",
    "    sample_silhouette_values = silhouette_samples(X, cluster_labels)\n",
    "\n",
    "    y_lower = 10\n",
    "    for i in range(n_clusters):\n",
    "        # Aggregate the silhouette scores for samples belonging to\n",
    "        # cluster i, and sort them\n",
    "        ith_cluster_silhouette_values = sample_silhouette_values[cluster_labels == i]\n",
    "\n",
    "        ith_cluster_silhouette_values.sort()\n",
    "\n",
    "        size_cluster_i = ith_cluster_silhouette_values.shape[0]\n",
    "        y_upper = y_lower + size_cluster_i\n",
    "\n",
    "        color = cm.nipy_spectral(float(i) / n_clusters)\n",
    "        ax1.fill_betweenx(\n",
    "            np.arange(y_lower, y_upper),\n",
    "            0,\n",
    "            ith_cluster_silhouette_values,\n",
    "            facecolor=color,\n",
    "            edgecolor=color,\n",
    "            alpha=0.7,\n",
    "        )\n",
    "\n",
    "        # Label the silhouette plots with their cluster numbers at the middle\n",
    "        ax1.text(-0.05, y_lower + 0.5 * size_cluster_i, str(i))\n",
    "\n",
    "        # Compute the new y_lower for next plot\n",
    "        y_lower = y_upper + 10  # 10 for the 0 samples\n",
    "\n",
    "    ax1.set_title(\"The silhouette plot for the various clusters.\")\n",
    "    ax1.set_xlabel(\"The silhouette coefficient values\")\n",
    "    ax1.set_ylabel(\"Cluster label\")\n",
    "\n",
    "    # The vertical line for average silhouette score of all the values\n",
    "    ax1.axvline(x=silhouette_avg, color=\"red\", linestyle=\"--\")\n",
    "\n",
    "    ax1.set_yticks([])  # Clear the yaxis labels / ticks\n",
    "    ax1.set_xticks([-0.1, 0, 0.2, 0.4, 0.6, 0.8, 1])\n",
    "\n",
    "    # 2nd Plot showing the actual clusters formed\n",
    "    colors = cm.nipy_spectral(cluster_labels.astype(float) / n_clusters)\n",
    "    ax2.scatter(\n",
    "        X[:, 0], X[:, 1], marker=\".\", s=30, lw=0, alpha=0.7, c=colors, edgecolor=\"k\"\n",
    "    )\n",
    "\n",
    "    # Labeling the clusters\n",
    "    centers = clusterer.cluster_centers_\n",
    "    # Draw white circles at cluster centers\n",
    "    ax2.scatter(\n",
    "        centers[:, 0],\n",
    "        centers[:, 1],\n",
    "        marker=\"o\",\n",
    "        c=\"white\",\n",
    "        alpha=1,\n",
    "        s=200,\n",
    "        edgecolor=\"k\",\n",
    "    )\n",
    "\n",
    "    for i, c in enumerate(centers):\n",
    "        ax2.scatter(c[0], c[1], marker=\"$%d$\" % i, alpha=1, s=50, edgecolor=\"k\")\n",
    "\n",
    "    ax2.set_title(\"The visualization of the clustered data.\")\n",
    "    ax2.set_xlabel(\"Feature space for the 1st feature\")\n",
    "    ax2.set_ylabel(\"Feature space for the 2nd feature\")\n",
    "\n",
    "    plt.suptitle(\n",
    "        \"Silhouette analysis for KMeans clustering on sample data with n_clusters = %d\"\n",
    "        % n_clusters,\n",
    "        fontsize=14,\n",
    "        fontweight=\"bold\",\n",
    "    )\n",
    "\n",
    "plt.show()"
   ]
  },
  {
   "cell_type": "code",
   "execution_count": 124,
   "metadata": {},
   "outputs": [
    {
     "data": {
      "image/png": "[encoded data removed]",
      "text/plain": [
       "<Figure size 432x288 with 2 Axes>"
      ]
     },
     "metadata": {
      "needs_background": "light"
     },
     "output_type": "display_data"
    },
    {
     "data": {
      "image/png": "[encoded data removed]",
      "text/plain": [
       "<Figure size 432x288 with 2 Axes>"
      ]
     },
     "metadata": {
      "needs_background": "light"
     },
     "output_type": "display_data"
    },
    {
     "data": {
      "image/png": "[encoded data removed]",
      "text/plain": [
       "<Figure size 432x288 with 2 Axes>"
      ]
     },
     "metadata": {
      "needs_background": "light"
     },
     "output_type": "display_data"
    }
   ],
   "source": [
    "n_clusters = [2,3,4,5]\n",
    "for cluster in range_predict:\n",
    "    # create subplot for the hahas\n",
    "    fig, (ax1, ax2 ) = plt.subplots(1,2)\n",
    "    ax1.set_xlim([-0.1,1])\n",
    "    X_scaled_train = np.nan_to_num(X_scaled_train)\n",
    "    X_scaled_test = np.nan_to_num(X_scaled_test)\n",
    "\n",
    "    ax1.set_ylim([0, len(X_scaled_train) + (cluster + 1) * 10])\n",
    "\n",
    "    ## Initialize clusters\n",
    "    clusterer = Kmeans(n_clusters=n_clusters)\n",
    "    cluster_labels = clusterer.fit_predict(X_scaled_train)\n",
    "\n",
    "    silhouette_avg = silhouette_score(X_scaled_train, cluster_labels)\n",
    "    print(\n",
    "        \"For n_clusters =\",\n",
    "        n_clusters,\n",
    "        \"The average silhouette_score is :\",\n",
    "        silhouette_avg,\n",
    "    )\n",
    "    "
   ]
  }
 ],
 "metadata": {
  "kernelspec": {
   "display_name": "Python 3.7.13 ('mlenv')",
   "language": "python",
   "name": "python3"
  },
  "language_info": {
   "codemirror_mode": {
    "name": "ipython",
    "version": 3
   },
   "file_extension": ".py",
   "mimetype": "text/x-python",
   "name": "python",
   "nbconvert_exporter": "python",
   "pygments_lexer": "ipython3",
   "version": "3.7.13"
  },
  "orig_nbformat": 4,
  "vscode": {
   "interpreter": {
    "hash": "dad9669986d2e53d258b14239b0338930eb2b69d3d5c20882941b4054d76ef36"
   }
  }
 },
 "nbformat": 4,
 "nbformat_minor": 2
}
